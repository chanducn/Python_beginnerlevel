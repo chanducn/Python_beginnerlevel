{
 "cells": [
  {
   "cell_type": "markdown",
   "id": "4d816c50-8d34-4fd2-8b76-53b064e55efe",
   "metadata": {},
   "source": [
    "# type casting"
   ]
  },
  {
   "cell_type": "code",
   "execution_count": 4,
   "id": "122f9395-2ccd-4fc6-847a-bebee2865f01",
   "metadata": {},
   "outputs": [
    {
     "data": {
      "text/plain": [
       "4.5"
      ]
     },
     "execution_count": 4,
     "metadata": {},
     "output_type": "execute_result"
    }
   ],
   "source": [
    "i=4.5\n",
    "i"
   ]
  },
  {
   "cell_type": "code",
   "execution_count": 2,
   "id": "b056d27e-3c0e-4e9f-b4e8-b7580edf82a1",
   "metadata": {},
   "outputs": [],
   "source": [
    "s = int(i)"
   ]
  },
  {
   "cell_type": "code",
   "execution_count": 3,
   "id": "bba3ee13-6716-4f2a-8b01-3577bd7d3f2e",
   "metadata": {},
   "outputs": [
    {
     "data": {
      "text/plain": [
       "4"
      ]
     },
     "execution_count": 3,
     "metadata": {},
     "output_type": "execute_result"
    }
   ],
   "source": [
    "s"
   ]
  },
  {
   "cell_type": "code",
   "execution_count": 5,
   "id": "e8f51844-e4c1-4b50-b1dc-1a86913e96b3",
   "metadata": {},
   "outputs": [
    {
     "data": {
      "text/plain": [
       "1"
      ]
     },
     "execution_count": 5,
     "metadata": {},
     "output_type": "execute_result"
    }
   ],
   "source": [
    "int(True)"
   ]
  },
  {
   "cell_type": "code",
   "execution_count": 7,
   "id": "de2431d9-e10f-44ff-b3f1-5a9a4d85fc29",
   "metadata": {},
   "outputs": [
    {
     "data": {
      "text/plain": [
       "1"
      ]
     },
     "execution_count": 7,
     "metadata": {},
     "output_type": "execute_result"
    }
   ],
   "source": [
    "int(1.2)"
   ]
  },
  {
   "cell_type": "markdown",
   "id": "10c4cd07-2456-4ab3-91eb-21e720dff9f8",
   "metadata": {},
   "source": [
    "## Variables "
   ]
  },
  {
   "cell_type": "code",
   "execution_count": 1,
   "id": "b4608df9-ee3e-49c2-bf50-b49331b9734f",
   "metadata": {},
   "outputs": [
    {
     "data": {
      "text/plain": [
       "10"
      ]
     },
     "execution_count": 1,
     "metadata": {},
     "output_type": "execute_result"
    }
   ],
   "source": [
    "i = 10\n",
    "i"
   ]
  },
  {
   "cell_type": "code",
   "execution_count": 2,
   "id": "afa65e95-5dee-41a3-96fc-4f432275e5c8",
   "metadata": {},
   "outputs": [],
   "source": [
    "i= 'hello'"
   ]
  },
  {
   "cell_type": "code",
   "execution_count": 3,
   "id": "63d9ab18-bb62-49f1-a90d-5e4897474da1",
   "metadata": {},
   "outputs": [
    {
     "data": {
      "text/plain": [
       "'hello'"
      ]
     },
     "execution_count": 3,
     "metadata": {},
     "output_type": "execute_result"
    }
   ],
   "source": [
    "i"
   ]
  },
  {
   "cell_type": "markdown",
   "id": "4cf81cab-9db5-446e-a7fe-6530f71deb53",
   "metadata": {},
   "source": [
    "# String Formating"
   ]
  },
  {
   "cell_type": "code",
   "execution_count": 4,
   "id": "ac4a5359-e074-4dd8-9607-1540321958dc",
   "metadata": {},
   "outputs": [
    {
     "name": "stdout",
     "output_type": "stream",
     "text": [
      "The addition of 20 and 30 is= 50\n"
     ]
    }
   ],
   "source": [
    "num1=20\n",
    "num2=30\n",
    "add=num1+num2\n",
    "print('The addition of {} and {} is= {}'.format(num1,num2,add))"
   ]
  },
  {
   "cell_type": "code",
   "execution_count": 5,
   "id": "a3fcbc6b-9c0f-4cd0-9899-1a86585c1a76",
   "metadata": {},
   "outputs": [
    {
     "name": "stdout",
     "output_type": "stream",
     "text": [
      "The addition of  20 and  30  is=  50\n"
     ]
    }
   ],
   "source": [
    "num1=20\n",
    "num2=30\n",
    "add=num1+num2\n",
    "print('The addition of ',num1,'and ',num2,' is= ',add)"
   ]
  },
  {
   "cell_type": "code",
   "execution_count": 24,
   "id": "eab9edc7-c722-4f95-9d7d-36a793aa3fcf",
   "metadata": {},
   "outputs": [
    {
     "data": {
      "text/plain": [
       "42.33"
      ]
     },
     "execution_count": 24,
     "metadata": {},
     "output_type": "execute_result"
    }
   ],
   "source": [
    "n1 = 10\n",
    "n2 = 22\n",
    "n3 = 31\n",
    "avg = round(n1+n2+n3/3,2)\n",
    "avg"
   ]
  },
  {
   "cell_type": "code",
   "execution_count": 19,
   "id": "35ff6f18-35bd-4ac8-9abe-c415b57743e6",
   "metadata": {},
   "outputs": [],
   "source": [
    "add = n1 + n2"
   ]
  },
  {
   "cell_type": "code",
   "execution_count": 22,
   "id": "1e2fe006-8d3e-48d0-bb2b-825172e480e1",
   "metadata": {},
   "outputs": [
    {
     "name": "stdout",
     "output_type": "stream",
     "text": [
      "the addition of 10 and 22 is = 32\n"
     ]
    }
   ],
   "source": [
    "print(f'the addition of {n1} and {n2} is = {add}')"
   ]
  },
  {
   "cell_type": "code",
   "execution_count": 23,
   "id": "7d7b607c-9af3-4628-a42a-b445b7f5682f",
   "metadata": {},
   "outputs": [
    {
     "name": "stdout",
     "output_type": "stream",
     "text": [
      "the addition of 10 and 22 is = 32\n"
     ]
    }
   ],
   "source": [
    "print('the addition of {} and {} is = {}'.format(n1,n2,add))"
   ]
  },
  {
   "cell_type": "markdown",
   "id": "718a6084-fbd3-4385-8af6-ab70a1956f2c",
   "metadata": {},
   "source": [
    "# end"
   ]
  },
  {
   "cell_type": "code",
   "execution_count": 25,
   "id": "91d464d5-b45d-4a2b-9758-30e98df07a9e",
   "metadata": {},
   "outputs": [
    {
     "name": "stdout",
     "output_type": "stream",
     "text": [
      "hello\n",
      "babe\n"
     ]
    }
   ],
   "source": [
    "print('hello')\n",
    "print('babe')"
   ]
  },
  {
   "cell_type": "code",
   "execution_count": 29,
   "id": "145cb32c-3dd3-48c5-a189-9c9e72717ac1",
   "metadata": {},
   "outputs": [
    {
     "name": "stdout",
     "output_type": "stream",
     "text": [
      "hello babe\n"
     ]
    }
   ],
   "source": [
    "print('hello',end = ' ' )\n",
    "print('babe')"
   ]
  },
  {
   "cell_type": "markdown",
   "id": "baec7d17-7064-4f46-8d79-aa9e4e0aab24",
   "metadata": {},
   "source": [
    "# Seprator Sep()"
   ]
  },
  {
   "cell_type": "code",
   "execution_count": 31,
   "id": "1e6d02a4-5353-4180-a1f0-9a5a80dd86bb",
   "metadata": {},
   "outputs": [
    {
     "name": "stdout",
     "output_type": "stream",
     "text": [
      "hello@hi@what\n"
     ]
    }
   ],
   "source": [
    "print('hello','hi','what',sep='@')"
   ]
  },
  {
   "cell_type": "code",
   "execution_count": 32,
   "id": "73dc74f6-7479-4fb7-81b4-3b914daffc13",
   "metadata": {},
   "outputs": [
    {
     "name": "stdout",
     "output_type": "stream",
     "text": [
      "3 .\n"
     ]
    }
   ],
   "source": [
    "print(3,'.')"
   ]
  },
  {
   "cell_type": "code",
   "execution_count": 33,
   "id": "88b9155e-9129-422a-aac8-5786d1c1abad",
   "metadata": {},
   "outputs": [
    {
     "name": "stdout",
     "output_type": "stream",
     "text": [
      "3.\n"
     ]
    }
   ],
   "source": [
    "print(3,'.',sep='')"
   ]
  },
  {
   "cell_type": "code",
   "execution_count": 34,
   "id": "8149403d-89ba-4fd1-9374-3b2a0a519633",
   "metadata": {},
   "outputs": [
    {
     "name": "stdout",
     "output_type": "stream",
     "text": [
      "1666427961776\n"
     ]
    }
   ],
   "source": [
    "s = 'helllo'\n",
    "print(id(s))"
   ]
  },
  {
   "cell_type": "code",
   "execution_count": 35,
   "id": "c15a105f-28f0-4e0d-b262-5f4a5d58d274",
   "metadata": {},
   "outputs": [
    {
     "name": "stdout",
     "output_type": "stream",
     "text": [
      "1666427858544\n"
     ]
    }
   ],
   "source": [
    "s = s+'world'\n",
    "print(id(s))"
   ]
  },
  {
   "cell_type": "code",
   "execution_count": 36,
   "id": "996b3940-f32c-414a-970b-32e951c7e257",
   "metadata": {},
   "outputs": [],
   "source": [
    "s = 'bye'"
   ]
  },
  {
   "cell_type": "code",
   "execution_count": 37,
   "id": "14ad41f7-bb4a-4afd-bf50-5094a3768646",
   "metadata": {},
   "outputs": [
    {
     "name": "stdout",
     "output_type": "stream",
     "text": [
      "1666427961456\n"
     ]
    }
   ],
   "source": [
    "print(id(s))"
   ]
  },
  {
   "cell_type": "code",
   "execution_count": 39,
   "id": "e429a865-be48-40fe-95ff-c0973cfcd429",
   "metadata": {},
   "outputs": [
    {
     "name": "stdout",
     "output_type": "stream",
     "text": [
      "2\n"
     ]
    }
   ],
   "source": [
    "print(True*2)"
   ]
  },
  {
   "cell_type": "code",
   "execution_count": 41,
   "id": "f064bf66-d4fe-42cf-a572-472a4be09b75",
   "metadata": {},
   "outputs": [
    {
     "name": "stdout",
     "output_type": "stream",
     "text": [
      "<class 'int'>\n"
     ]
    }
   ],
   "source": [
    "poll_data = 7\n",
    "print(type(poll_data))"
   ]
  },
  {
   "cell_type": "code",
   "execution_count": 47,
   "id": "a19dd40d-a4c1-4157-85b6-9cb9633644ad",
   "metadata": {},
   "outputs": [
    {
     "data": {
      "text/plain": [
       "[0, 1, 2, 3, 4, 5, 6, 7, 8]"
      ]
     },
     "execution_count": 47,
     "metadata": {},
     "output_type": "execute_result"
    }
   ],
   "source": [
    "list(range(9))"
   ]
  },
  {
   "cell_type": "code",
   "execution_count": 48,
   "id": "3235e195-dbd4-4c12-8f0e-9d24d3d2068f",
   "metadata": {},
   "outputs": [
    {
     "name": "stdout",
     "output_type": "stream",
     "text": [
      "<class 'tuple'>\n"
     ]
    }
   ],
   "source": [
    "obj = ()\n",
    "print(type(obj))"
   ]
  },
  {
   "cell_type": "code",
   "execution_count": 55,
   "id": "a4dae1f3-26ac-4b8a-9f8e-bb1e03320fd1",
   "metadata": {},
   "outputs": [
    {
     "data": {
      "text/plain": [
       "(int, '0x7ffa1d97c448')"
      ]
     },
     "execution_count": 55,
     "metadata": {},
     "output_type": "execute_result"
    }
   ],
   "source": [
    "p = 10\n",
    "q = 10\n",
    "r =q \n",
    "type(p),hex(id(p))\n",
    "type(q),hex(id(q))\n",
    "type(r),hex(id(r))\n"
   ]
  },
  {
   "cell_type": "code",
   "execution_count": 56,
   "id": "0d037577-c47b-46a5-b713-4b7cf18d4044",
   "metadata": {},
   "outputs": [
    {
     "data": {
      "text/plain": [
       "(10, 2.3, 'mine')"
      ]
     },
     "execution_count": 56,
     "metadata": {},
     "output_type": "execute_result"
    }
   ],
   "source": [
    "p,q,r = 10,2.3,'mine'\n",
    "p,q,r"
   ]
  },
  {
   "cell_type": "code",
   "execution_count": 61,
   "id": "234def63-20c7-47d4-9398-801a1d74bfc0",
   "metadata": {},
   "outputs": [
    {
     "name": "stdout",
     "output_type": "stream",
     "text": [
      "28\n"
     ]
    }
   ],
   "source": [
    "import sys\n",
    "val1 = 0\n",
    "print(sys.getsizeof(val1))"
   ]
  },
  {
   "cell_type": "code",
   "execution_count": 59,
   "id": "518d4fd0-d24e-4d96-9dd2-b4c1708d949b",
   "metadata": {},
   "outputs": [
    {
     "data": {
      "text/plain": [
       "True"
      ]
     },
     "execution_count": 59,
     "metadata": {},
     "output_type": "execute_result"
    }
   ],
   "source": [
    "isinstance(val1,int)"
   ]
  },
  {
   "cell_type": "code",
   "execution_count": 62,
   "id": "cb03c491-a395-4e97-a580-c6c53e5ce0b1",
   "metadata": {},
   "outputs": [
    {
     "data": {
      "text/plain": [
       "True"
      ]
     },
     "execution_count": 62,
     "metadata": {},
     "output_type": "execute_result"
    }
   ],
   "source": [
    "bool(True)"
   ]
  },
  {
   "cell_type": "code",
   "execution_count": 75,
   "id": "251d552e-097d-4939-aa92-b9e0ab44f7f9",
   "metadata": {},
   "outputs": [],
   "source": [
    "str1 = (\"str1\",'str2')\n",
    "str2 = 'dats'*5"
   ]
  },
  {
   "cell_type": "code",
   "execution_count": 76,
   "id": "35126fcc-3087-45fb-a014-907545311391",
   "metadata": {},
   "outputs": [
    {
     "data": {
      "text/plain": [
       "('str1', 'str2')"
      ]
     },
     "execution_count": 76,
     "metadata": {},
     "output_type": "execute_result"
    }
   ],
   "source": [
    "str1"
   ]
  },
  {
   "cell_type": "code",
   "execution_count": 77,
   "id": "6cb3edd5-7901-43a0-9d6a-e020be3cbe95",
   "metadata": {},
   "outputs": [
    {
     "data": {
      "text/plain": [
       "str"
      ]
     },
     "execution_count": 77,
     "metadata": {},
     "output_type": "execute_result"
    }
   ],
   "source": [
    "str1\n",
    "type(str1)\n",
    "type(str2)"
   ]
  },
  {
   "cell_type": "code",
   "execution_count": 78,
   "id": "8138fe9b-5f9e-4018-9ba6-17ea69cd7420",
   "metadata": {},
   "outputs": [
    {
     "data": {
      "text/plain": [
       "'datsdatsdatsdatsdatsdatsdatsdatsdatsdatsdatsdatsdatsdatsdats'"
      ]
     },
     "execution_count": 78,
     "metadata": {},
     "output_type": "execute_result"
    }
   ],
   "source": [
    "str = str2*3\n",
    "str"
   ]
  },
  {
   "cell_type": "markdown",
   "id": "18585d1f-046f-47c1-bab4-6d625436df0d",
   "metadata": {},
   "source": [
    "# len()"
   ]
  },
  {
   "cell_type": "code",
   "execution_count": 83,
   "id": "d4214fa2-6ac1-4907-b884-bf8b3c9e6be1",
   "metadata": {},
   "outputs": [
    {
     "data": {
      "text/plain": [
       "20"
      ]
     },
     "execution_count": 83,
     "metadata": {},
     "output_type": "execute_result"
    }
   ],
   "source": [
    "len(str2)"
   ]
  },
  {
   "cell_type": "code",
   "execution_count": 97,
   "id": "c28dbe23-7393-4c2a-aa9d-bfed812a70e4",
   "metadata": {},
   "outputs": [],
   "source": [
    "str1 = 'hello python'"
   ]
  },
  {
   "cell_type": "code",
   "execution_count": 98,
   "id": "21343c75-4e33-489f-a552-26be799f7f98",
   "metadata": {},
   "outputs": [
    {
     "data": {
      "text/plain": [
       "12"
      ]
     },
     "execution_count": 98,
     "metadata": {},
     "output_type": "execute_result"
    }
   ],
   "source": [
    "len(str1)"
   ]
  },
  {
   "cell_type": "code",
   "execution_count": 99,
   "id": "b6c40631-2bf6-4319-a7bf-9d2086b244af",
   "metadata": {},
   "outputs": [
    {
     "data": {
      "text/plain": [
       "'n'"
      ]
     },
     "execution_count": 99,
     "metadata": {},
     "output_type": "execute_result"
    }
   ],
   "source": [
    "str1[len(str1)-1]"
   ]
  },
  {
   "cell_type": "code",
   "execution_count": 100,
   "id": "091c10d6-fb30-4048-900a-bb7b9f3b4830",
   "metadata": {},
   "outputs": [
    {
     "data": {
      "text/plain": [
       "'e'"
      ]
     },
     "execution_count": 100,
     "metadata": {},
     "output_type": "execute_result"
    }
   ],
   "source": [
    "str1[1-len(str1)]"
   ]
  },
  {
   "cell_type": "code",
   "execution_count": 101,
   "id": "93ae4c47-7e7c-4a9f-b02a-92f21018da68",
   "metadata": {},
   "outputs": [
    {
     "data": {
      "text/plain": [
       "'hello pytho'"
      ]
     },
     "execution_count": 101,
     "metadata": {},
     "output_type": "execute_result"
    }
   ],
   "source": [
    "str1[0:11]"
   ]
  },
  {
   "cell_type": "code",
   "execution_count": 102,
   "id": "e652b19b-bb38-4b0b-8c1a-f8a6f6dfda48",
   "metadata": {},
   "outputs": [
    {
     "data": {
      "text/plain": [
       "'n'"
      ]
     },
     "execution_count": 102,
     "metadata": {},
     "output_type": "execute_result"
    }
   ],
   "source": [
    "str1[-1:]"
   ]
  },
  {
   "cell_type": "code",
   "execution_count": 95,
   "id": "3e05007a-f9d1-47ca-9a37-4a7031e2e387",
   "metadata": {},
   "outputs": [
    {
     "ename": "NameError",
     "evalue": "name 'str1' is not defined",
     "output_type": "error",
     "traceback": [
      "\u001b[1;31m---------------------------------------------------------------------------\u001b[0m",
      "\u001b[1;31mNameError\u001b[0m                                 Traceback (most recent call last)",
      "Cell \u001b[1;32mIn[95], line 2\u001b[0m\n\u001b[0;32m      1\u001b[0m \u001b[38;5;28;01mdel\u001b[39;00m str1\n\u001b[1;32m----> 2\u001b[0m \u001b[38;5;28mprint\u001b[39m(str1)\n",
      "\u001b[1;31mNameError\u001b[0m: name 'str1' is not defined"
     ]
    }
   ],
   "source": [
    "del str1\n",
    "print(str1)"
   ]
  },
  {
   "cell_type": "markdown",
   "id": "ae803234-5c31-44d8-840e-086b6f646e93",
   "metadata": {},
   "source": [
    "# Operators, string concat"
   ]
  },
  {
   "cell_type": "code",
   "execution_count": 103,
   "id": "e75e01de-533d-40ab-85a4-793ccfbd2a4f",
   "metadata": {},
   "outputs": [
    {
     "data": {
      "text/plain": [
       "(20, 10)"
      ]
     },
     "execution_count": 103,
     "metadata": {},
     "output_type": "execute_result"
    }
   ],
   "source": [
    "x = 10\n",
    "y = 20\n",
    "x,y = y, x\n",
    "x,y"
   ]
  },
  {
   "cell_type": "code",
   "execution_count": 105,
   "id": "d0d389b0-3751-4c64-a261-f2011414340f",
   "metadata": {},
   "outputs": [
    {
     "name": "stdout",
     "output_type": "stream",
     "text": [
      "2\n"
     ]
    }
   ],
   "source": [
    "x = 5\n",
    "y = 2\n",
    "print(x//y)"
   ]
  },
  {
   "cell_type": "code",
   "execution_count": 1,
   "id": "5f934328-33fb-4e78-b716-9fe05812d834",
   "metadata": {},
   "outputs": [
    {
     "data": {
      "text/plain": [
       "'yx'"
      ]
     },
     "execution_count": 1,
     "metadata": {},
     "output_type": "execute_result"
    }
   ],
   "source": [
    "x = 'y'\n",
    "y = 'x'\n",
    "x+y"
   ]
  },
  {
   "cell_type": "markdown",
   "id": "254ea8fe-4950-4b16-b893-c9b44101fa48",
   "metadata": {},
   "source": [
    "# dict , list , "
   ]
  },
  {
   "cell_type": "code",
   "execution_count": 2,
   "id": "a2a0e553-2cec-4314-97df-a7670d31f199",
   "metadata": {},
   "outputs": [],
   "source": [
    "dict = {'hello':20}"
   ]
  },
  {
   "cell_type": "code",
   "execution_count": 9,
   "id": "b8159ee4-06aa-4709-a10d-95a47e2862e4",
   "metadata": {},
   "outputs": [
    {
     "name": "stdout",
     "output_type": "stream",
     "text": [
      "True\n"
     ]
    }
   ],
   "source": [
    "if 'hello' in dict:\n",
    "    print(True)"
   ]
  },
  {
   "cell_type": "code",
   "execution_count": 10,
   "id": "a30d597d-dc10-4559-81d3-07f1afb973a1",
   "metadata": {},
   "outputs": [],
   "source": [
    "fruits = ['apple', 'banana','orange']"
   ]
  },
  {
   "cell_type": "code",
   "execution_count": 19,
   "id": "7bc3bb08-735d-44c4-b316-eddafef5052b",
   "metadata": {},
   "outputs": [
    {
     "name": "stdout",
     "output_type": "stream",
     "text": [
      "0 apple\n",
      "1 banana\n",
      "2 orange\n"
     ]
    }
   ],
   "source": [
    "for index ,fruits in enumerate(fruits):\n",
    "    print(index,fruits)"
   ]
  },
  {
   "cell_type": "code",
   "execution_count": 23,
   "id": "575a31ab-a29c-48e9-bd7c-a342dc3e1e24",
   "metadata": {},
   "outputs": [
    {
     "name": "stdout",
     "output_type": "stream",
     "text": [
      "True != False:  True\n"
     ]
    }
   ],
   "source": [
    "print('True != False: ', True != False)"
   ]
  },
  {
   "cell_type": "code",
   "execution_count": 24,
   "id": "fbbda470-ae3f-4d78-9dad-a62f53e5dff3",
   "metadata": {},
   "outputs": [
    {
     "name": "stdout",
     "output_type": "stream",
     "text": [
      "True and True:  True\n"
     ]
    }
   ],
   "source": [
    "print('True and True: ', True and True)"
   ]
  },
  {
   "cell_type": "code",
   "execution_count": 25,
   "id": "14a34c8b-c825-4ae9-98c0-bbb27b99bcb4",
   "metadata": {},
   "outputs": [
    {
     "name": "stdout",
     "output_type": "stream",
     "text": [
      "True or False: True\n"
     ]
    }
   ],
   "source": [
    "print('True or False:', True or False)"
   ]
  },
  {
   "cell_type": "code",
   "execution_count": 29,
   "id": "c7677646-a7aa-4c01-86f6-035a329cc516",
   "metadata": {},
   "outputs": [
    {
     "name": "stdout",
     "output_type": "stream",
     "text": [
      "P\n"
     ]
    }
   ],
   "source": [
    "language = 'PYTHONN'\n",
    "a,b,c,d,e,f,g= language\n",
    "print(a)"
   ]
  },
  {
   "cell_type": "code",
   "execution_count": 30,
   "id": "884ba34b-6448-4b84-ae25-95876583afb2",
   "metadata": {},
   "outputs": [
    {
     "name": "stdout",
     "output_type": "stream",
     "text": [
      "N N\n"
     ]
    }
   ],
   "source": [
    "print(g,f)"
   ]
  },
  {
   "cell_type": "code",
   "execution_count": 31,
   "id": "97c6d739-5ebe-4bcc-989f-7d28ea18c780",
   "metadata": {},
   "outputs": [
    {
     "name": "stdout",
     "output_type": "stream",
     "text": [
      "I hope every one enjoying the python challenge.\n",
      "Do you ?\n"
     ]
    }
   ],
   "source": [
    "print('I hope every one enjoying the python challenge.\\nDo you ?') # line break"
   ]
  },
  {
   "cell_type": "code",
   "execution_count": 33,
   "id": "6dfa0414-b5e7-44d4-800f-256f4cbb2996",
   "metadata": {},
   "outputs": [
    {
     "name": "stdout",
     "output_type": "stream",
     "text": [
      "I hope every one enjoying the python challenge.Do you ?\n"
     ]
    }
   ],
   "source": [
    "print('I hope every one enjoying the python challenge.Do you ?') # line break\n"
   ]
  },
  {
   "cell_type": "code",
   "execution_count": 38,
   "id": "2bd29c89-1ac4-4353-9bac-48462920e443",
   "metadata": {},
   "outputs": [
    {
     "name": "stdout",
     "output_type": "stream",
     "text": [
      "This is a back slash  symbol /\n"
     ]
    }
   ],
   "source": [
    "print('This is a back slash  symbol /')  #To write a back slash\n"
   ]
  },
  {
   "cell_type": "code",
   "execution_count": 41,
   "id": "f5cb3f04-0818-46b9-ae2a-70041267454b",
   "metadata": {},
   "outputs": [
    {
     "name": "stdout",
     "output_type": "stream",
     "text": [
      "Day 1\t3\t5\t10\t5\n"
     ]
    }
   ],
   "source": [
    "print('Day 1\\t3\\t5\\t10\\t5')"
   ]
  },
  {
   "cell_type": "code",
   "execution_count": 42,
   "id": "d8445b02-ce7c-45d1-a4ee-449acd02c54d",
   "metadata": {},
   "outputs": [
    {
     "name": "stdout",
     "output_type": "stream",
     "text": [
      "In every programming language it starts with \"Hello, World!\"\n"
     ]
    }
   ],
   "source": [
    "print('In every programming language it starts with \\\"Hello, World!\\\"')"
   ]
  },
  {
   "cell_type": "markdown",
   "id": "809e1fe3-450e-40ac-a708-9d0a327de46f",
   "metadata": {},
   "source": [
    "# Capitalize()"
   ]
  },
  {
   "cell_type": "code",
   "execution_count": 43,
   "id": "bad54d0f-8094-4a04-8ae3-ae5394294f8a",
   "metadata": {},
   "outputs": [],
   "source": [
    "v = 'this is small case python'"
   ]
  },
  {
   "cell_type": "code",
   "execution_count": 51,
   "id": "98b059df-e776-493f-b8c3-591438562ec3",
   "metadata": {},
   "outputs": [
    {
     "name": "stdout",
     "output_type": "stream",
     "text": [
      "This is small case python\n"
     ]
    }
   ],
   "source": [
    "print(v.capitalize())"
   ]
  },
  {
   "cell_type": "markdown",
   "id": "23d20fce-c4da-4885-a0cb-4b6f7a9311ce",
   "metadata": {},
   "source": [
    "# Count()"
   ]
  },
  {
   "cell_type": "code",
   "execution_count": null,
   "id": "89e8e475-ad32-4dc3-b240-4f18bbdbda67",
   "metadata": {},
   "outputs": [],
   "source": [
    "v = 'this is small case python'"
   ]
  },
  {
   "cell_type": "code",
   "execution_count": 58,
   "id": "4b29421e-c8ed-4bec-a7d0-70dcdd852792",
   "metadata": {},
   "outputs": [
    {
     "name": "stdout",
     "output_type": "stream",
     "text": [
      "4\n"
     ]
    }
   ],
   "source": [
    "print(v.count('s'))"
   ]
  },
  {
   "cell_type": "code",
   "execution_count": 59,
   "id": "a99c35cf-805a-48c0-9564-df33a5863d64",
   "metadata": {},
   "outputs": [
    {
     "name": "stdout",
     "output_type": "stream",
     "text": [
      "2\n"
     ]
    }
   ],
   "source": [
    "print(v.count('s',6,10))"
   ]
  },
  {
   "cell_type": "markdown",
   "id": "014f15a1-c594-4522-a236-62763fa296ca",
   "metadata": {},
   "source": [
    "# ends with()"
   ]
  },
  {
   "cell_type": "code",
   "execution_count": 60,
   "id": "7361f6c8-f041-4409-82dd-c5597ee598ef",
   "metadata": {},
   "outputs": [],
   "source": [
    "v = 'this is small case python'"
   ]
  },
  {
   "cell_type": "code",
   "execution_count": 63,
   "id": "5bc70afe-f4ac-4a1d-9325-0b737d7a4a29",
   "metadata": {},
   "outputs": [
    {
     "name": "stdout",
     "output_type": "stream",
     "text": [
      "True\n"
     ]
    }
   ],
   "source": [
    "print(v.endswith('on'))"
   ]
  },
  {
   "cell_type": "code",
   "execution_count": 65,
   "id": "0eb8e704-c2e5-4d41-b87c-e8cd93cd158a",
   "metadata": {},
   "outputs": [
    {
     "name": "stdout",
     "output_type": "stream",
     "text": [
      "False\n"
     ]
    }
   ],
   "source": [
    "print(v.endswith('se'))"
   ]
  },
  {
   "cell_type": "code",
   "execution_count": 66,
   "id": "b08f321f-039f-4578-b4b5-1fb261dba927",
   "metadata": {},
   "outputs": [
    {
     "name": "stdout",
     "output_type": "stream",
     "text": [
      "True\n"
     ]
    }
   ],
   "source": [
    "print(v.endswith('thon'))"
   ]
  },
  {
   "cell_type": "markdown",
   "id": "94e9e18a-7ccd-4e58-94aa-c0195f1d1599",
   "metadata": {},
   "source": [
    "# Expandtab()"
   ]
  },
  {
   "cell_type": "code",
   "execution_count": 71,
   "id": "2252fa1d-8486-4cb6-a5f4-153088abd61f",
   "metadata": {},
   "outputs": [],
   "source": [
    "v = 'this\\tis\\tsmall\\tcase\\tpython'"
   ]
  },
  {
   "cell_type": "code",
   "execution_count": 74,
   "id": "4e67e80b-5238-4fcf-a957-fed8c2c0f122",
   "metadata": {},
   "outputs": [
    {
     "name": "stdout",
     "output_type": "stream",
     "text": [
      "this    is      small   case    python\n"
     ]
    }
   ],
   "source": [
    "print(v.expandtabs()) #default size is 10"
   ]
  },
  {
   "cell_type": "code",
   "execution_count": 75,
   "id": "14b9800b-f452-4788-9201-f463dd026808",
   "metadata": {},
   "outputs": [
    {
     "name": "stdout",
     "output_type": "stream",
     "text": [
      "this           is             small          case           python\n"
     ]
    }
   ],
   "source": [
    "print(v.expandtabs(15))"
   ]
  },
  {
   "cell_type": "markdown",
   "id": "66bd0dfa-6e93-4b80-b5fc-9d1848e516b1",
   "metadata": {},
   "source": [
    "# find()"
   ]
  },
  {
   "cell_type": "code",
   "execution_count": 76,
   "id": "ef70b33b-8799-4392-ac33-20e0ae3edc11",
   "metadata": {},
   "outputs": [],
   "source": [
    "v = 'thirty days of python training'"
   ]
  },
  {
   "cell_type": "code",
   "execution_count": 78,
   "id": "2d830951-a40c-4251-b81b-3a6f47ffb4cc",
   "metadata": {},
   "outputs": [
    {
     "data": {
      "text/plain": [
       "'g'"
      ]
     },
     "execution_count": 78,
     "metadata": {},
     "output_type": "execute_result"
    }
   ],
   "source": [
    "v[-1]"
   ]
  },
  {
   "cell_type": "code",
   "execution_count": 80,
   "id": "58fa725f-5728-4b83-ad01-561b7b2219da",
   "metadata": {},
   "outputs": [
    {
     "name": "stdout",
     "output_type": "stream",
     "text": [
      "5\n"
     ]
    }
   ],
   "source": [
    "print(v.find('y'))"
   ]
  },
  {
   "cell_type": "markdown",
   "id": "9d98735b-a8bc-4675-9039-f4071bcdcb59",
   "metadata": {},
   "source": [
    "# isalnum()"
   ]
  },
  {
   "cell_type": "code",
   "execution_count": 99,
   "id": "6db761a2-abf6-4a31-925e-f33eb29c6df1",
   "metadata": {},
   "outputs": [],
   "source": [
    "v = 'thirtydaysofpythontraining'"
   ]
  },
  {
   "cell_type": "code",
   "execution_count": 100,
   "id": "3165408c-8e09-4c69-bedd-b3fd40e5065b",
   "metadata": {},
   "outputs": [
    {
     "name": "stdout",
     "output_type": "stream",
     "text": [
      "True\n"
     ]
    }
   ],
   "source": [
    "print(v.isalnum()) #checks if any alphanumeric charcter present in string"
   ]
  },
  {
   "cell_type": "code",
   "execution_count": 97,
   "id": "d8583bcf-e1a2-4019-ac67-736843f7cbb8",
   "metadata": {},
   "outputs": [],
   "source": [
    "v1 = \"30daysofpython\""
   ]
  },
  {
   "cell_type": "code",
   "execution_count": 98,
   "id": "f7545ce5-c4c3-459d-9fa3-5151cf324332",
   "metadata": {},
   "outputs": [
    {
     "name": "stdout",
     "output_type": "stream",
     "text": [
      "True\n"
     ]
    }
   ],
   "source": [
    "print(v1.isalnum())"
   ]
  },
  {
   "cell_type": "markdown",
   "id": "56840b37-c18f-4fd6-aa88-de8a90a9e907",
   "metadata": {},
   "source": [
    "# isalpha()"
   ]
  },
  {
   "cell_type": "code",
   "execution_count": 111,
   "id": "900bd130-8132-4ff0-9557-fdb7cfaa2788",
   "metadata": {},
   "outputs": [],
   "source": [
    " v = 'thirtydaysofpythontraining'"
   ]
  },
  {
   "cell_type": "code",
   "execution_count": 112,
   "id": "61098930-04b3-430e-9e9e-16427c457f8e",
   "metadata": {},
   "outputs": [
    {
     "name": "stdout",
     "output_type": "stream",
     "text": [
      "True\n"
     ]
    }
   ],
   "source": [
    "print(v.isalpha()) #checks if only alphabets prsent in string"
   ]
  },
  {
   "cell_type": "code",
   "execution_count": 116,
   "id": "237447de-653e-4cec-8f35-1f41be6ef3c8",
   "metadata": {},
   "outputs": [],
   "source": [
    " v2 = '30daysofpythontraining'"
   ]
  },
  {
   "cell_type": "code",
   "execution_count": 117,
   "id": "d75a9899-6b4d-4b7f-a89e-b8f5aa55aa92",
   "metadata": {},
   "outputs": [
    {
     "name": "stdout",
     "output_type": "stream",
     "text": [
      "False\n"
     ]
    }
   ],
   "source": [
    "print(v2.isalpha())"
   ]
  },
  {
   "cell_type": "markdown",
   "id": "f5584ff9-780f-4cf2-8dfd-f2d0e4c6792d",
   "metadata": {},
   "source": [
    "# index()"
   ]
  },
  {
   "cell_type": "code",
   "execution_count": 118,
   "id": "71413252-a3be-435f-bac0-62d3d35bc2f6",
   "metadata": {},
   "outputs": [],
   "source": [
    " v = 'thirty days of python training'"
   ]
  },
  {
   "cell_type": "code",
   "execution_count": 120,
   "id": "a7107082-4ca6-4559-a223-33691993e187",
   "metadata": {},
   "outputs": [
    {
     "name": "stdout",
     "output_type": "stream",
     "text": [
      "8\n"
     ]
    }
   ],
   "source": [
    "print(v.index('a')) #returns the index of first appearence"
   ]
  },
  {
   "cell_type": "code",
   "execution_count": 121,
   "id": "182460fa-97ac-4f3c-bbfc-1507a537d563",
   "metadata": {},
   "outputs": [
    {
     "name": "stdout",
     "output_type": "stream",
     "text": [
      "12\n"
     ]
    }
   ],
   "source": [
    "print(v.index('of'))"
   ]
  },
  {
   "cell_type": "markdown",
   "id": "2cdd57eb-73bf-46f5-aeec-9b129ed6a909",
   "metadata": {},
   "source": [
    "# isdigit()"
   ]
  },
  {
   "cell_type": "code",
   "execution_count": 122,
   "id": "fc5a6dd6-5d7b-440e-b31c-65d0778c2333",
   "metadata": {},
   "outputs": [],
   "source": [
    "x = 'thirty days of fsds'"
   ]
  },
  {
   "cell_type": "code",
   "execution_count": 123,
   "id": "1027453c-d594-4ef3-b7ba-32b140f0dbfc",
   "metadata": {},
   "outputs": [
    {
     "name": "stdout",
     "output_type": "stream",
     "text": [
      "False\n"
     ]
    }
   ],
   "source": [
    "print(x.isdigit())"
   ]
  },
  {
   "cell_type": "code",
   "execution_count": 124,
   "id": "3ba8969c-3d9f-42fc-81c5-c30ccc12fb5a",
   "metadata": {},
   "outputs": [],
   "source": [
    "x = '30 days'"
   ]
  },
  {
   "cell_type": "code",
   "execution_count": 125,
   "id": "fcf069fa-3efc-4a71-986a-40b22bda6dce",
   "metadata": {},
   "outputs": [
    {
     "name": "stdout",
     "output_type": "stream",
     "text": [
      "False\n"
     ]
    }
   ],
   "source": [
    "print(x.isdigit())"
   ]
  },
  {
   "cell_type": "code",
   "execution_count": 126,
   "id": "67d7231e-aab3-44c4-a338-72e87f33cb23",
   "metadata": {},
   "outputs": [],
   "source": [
    "x = '300'"
   ]
  },
  {
   "cell_type": "code",
   "execution_count": 127,
   "id": "4b5cf539-8664-4147-a237-bb446c72d72f",
   "metadata": {},
   "outputs": [
    {
     "name": "stdout",
     "output_type": "stream",
     "text": [
      "True\n"
     ]
    }
   ],
   "source": [
    "print(x.isdigit())"
   ]
  },
  {
   "cell_type": "markdown",
   "id": "0dbdf082-aee7-43b1-aafa-0a37b9fd8cf6",
   "metadata": {},
   "source": [
    "# isdecimal()"
   ]
  },
  {
   "cell_type": "code",
   "execution_count": 129,
   "id": "e5704a22-716d-4673-bd92-06ca261c8e86",
   "metadata": {},
   "outputs": [
    {
     "name": "stdout",
     "output_type": "stream",
     "text": [
      "True\n"
     ]
    }
   ],
   "source": [
    "print(x.isdecimal())"
   ]
  },
  {
   "cell_type": "code",
   "execution_count": 132,
   "id": "4dd4dca6-d20d-4956-adfb-5a3e44cca019",
   "metadata": {},
   "outputs": [],
   "source": [
    "x = '300.5'"
   ]
  },
  {
   "cell_type": "code",
   "execution_count": 133,
   "id": "8013b677-b463-46b2-8abb-9b3170856dab",
   "metadata": {},
   "outputs": [
    {
     "name": "stdout",
     "output_type": "stream",
     "text": [
      "False\n"
     ]
    }
   ],
   "source": [
    "print(x.isdecimal())"
   ]
  },
  {
   "cell_type": "markdown",
   "id": "52844680-fed7-46ef-a9c6-fdec0a4d6ae1",
   "metadata": {},
   "source": [
    "# isidentifier()"
   ]
  },
  {
   "cell_type": "code",
   "execution_count": 135,
   "id": "e22efdb2-a966-4823-a627-223ba15c8f0e",
   "metadata": {},
   "outputs": [],
   "source": [
    "x = '30daysofpython'"
   ]
  },
  {
   "cell_type": "code",
   "execution_count": 136,
   "id": "672d438a-5296-496e-9117-b063ae4a9648",
   "metadata": {},
   "outputs": [
    {
     "name": "stdout",
     "output_type": "stream",
     "text": [
      "False\n"
     ]
    }
   ],
   "source": [
    "print(x.isidentifier())"
   ]
  },
  {
   "cell_type": "code",
   "execution_count": 137,
   "id": "744af6d2-16bc-4d2f-8b1a-7737986bbcfb",
   "metadata": {},
   "outputs": [],
   "source": [
    "x = 'daysofpython'"
   ]
  },
  {
   "cell_type": "code",
   "execution_count": 138,
   "id": "56033290-3b5d-4c4d-886b-32ea77d6453b",
   "metadata": {},
   "outputs": [
    {
     "name": "stdout",
     "output_type": "stream",
     "text": [
      "True\n"
     ]
    }
   ],
   "source": [
    "print(x.isidentifier())"
   ]
  },
  {
   "cell_type": "markdown",
   "id": "99260da1-f974-488e-bbcd-69d6ad386215",
   "metadata": {},
   "source": [
    "# isnumeric()"
   ]
  },
  {
   "cell_type": "code",
   "execution_count": 139,
   "id": "128c5c53-19fd-4d24-8f56-a640b82f2dec",
   "metadata": {},
   "outputs": [],
   "source": [
    "x  = '30'"
   ]
  },
  {
   "cell_type": "code",
   "execution_count": 141,
   "id": "d9521f86-f86e-4309-a232-001d9ac49e42",
   "metadata": {},
   "outputs": [
    {
     "name": "stdout",
     "output_type": "stream",
     "text": [
      "True\n"
     ]
    }
   ],
   "source": [
    "print(x.isnumeric()) #checks if value is numeric or not"
   ]
  },
  {
   "cell_type": "code",
   "execution_count": 142,
   "id": "747224c7-13d7-4629-a9bf-09b65b2cc17a",
   "metadata": {},
   "outputs": [],
   "source": [
    "x = 'hello' "
   ]
  },
  {
   "cell_type": "code",
   "execution_count": 143,
   "id": "e416f9e3-c734-452f-829a-fee2587d01ab",
   "metadata": {},
   "outputs": [
    {
     "name": "stdout",
     "output_type": "stream",
     "text": [
      "False\n"
     ]
    }
   ],
   "source": [
    "print(x.isnumeric())"
   ]
  },
  {
   "cell_type": "raw",
   "id": "6a51c1ad-8aa4-4941-8ec8-16b39f27ea7a",
   "metadata": {},
   "source": [
    "# join function"
   ]
  },
  {
   "cell_type": "code",
   "execution_count": 144,
   "id": "f47c7d75-83c6-4865-a442-0afcd50225b6",
   "metadata": {},
   "outputs": [],
   "source": [
    "web_tech = ['HTML', 'CSS', 'JavaScript', 'React']"
   ]
  },
  {
   "cell_type": "code",
   "execution_count": 146,
   "id": "fa0efd6b-42f2-466a-afe1-6b3a065cfc39",
   "metadata": {},
   "outputs": [
    {
     "name": "stdout",
     "output_type": "stream",
     "text": [
      "HTML#,CSS#,JavaScript#,React\n"
     ]
    }
   ],
   "source": [
    "result = '#,'.join(web_tech)\n",
    "print(result)"
   ]
  },
  {
   "cell_type": "code",
   "execution_count": 147,
   "id": "88422c74-0ed7-449d-8ac2-62753a7f130e",
   "metadata": {},
   "outputs": [
    {
     "name": "stdout",
     "output_type": "stream",
     "text": [
      "<class 'list'>\n",
      "<class 'str'>\n"
     ]
    }
   ],
   "source": [
    "print(type(web_tech))\n",
    "print(type(result))"
   ]
  },
  {
   "cell_type": "markdown",
   "id": "63db6cc0-82ec-438a-9154-ccd679763275",
   "metadata": {},
   "source": [
    "# strip()"
   ]
  },
  {
   "cell_type": "code",
   "execution_count": 163,
   "id": "3c675857-feff-4619-8c49-7bb6d1ba83ba",
   "metadata": {},
   "outputs": [],
   "source": [
    "x = '!thirty days of python!'"
   ]
  },
  {
   "cell_type": "code",
   "execution_count": 168,
   "id": "0dea867d-87be-40ec-a0cd-f9904dfceac7",
   "metadata": {},
   "outputs": [
    {
     "data": {
      "text/plain": [
       "'thirty days of python'"
      ]
     },
     "execution_count": 168,
     "metadata": {},
     "output_type": "execute_result"
    }
   ],
   "source": [
    "x =x.strip('!')\n",
    "x"
   ]
  },
  {
   "cell_type": "markdown",
   "id": "db540c2b-0e7e-47b3-a0be-9ece78712514",
   "metadata": {},
   "source": [
    "# replace()"
   ]
  },
  {
   "cell_type": "code",
   "execution_count": 166,
   "id": "3cfec5e8-3303-4421-b039-2e23d58d8d1a",
   "metadata": {},
   "outputs": [
    {
     "data": {
      "text/plain": [
       "'thirty days of python'"
      ]
     },
     "execution_count": 166,
     "metadata": {},
     "output_type": "execute_result"
    }
   ],
   "source": [
    "x"
   ]
  },
  {
   "cell_type": "code",
   "execution_count": 167,
   "id": "bcf8c4ce-0e15-416e-b545-9d95486069d0",
   "metadata": {},
   "outputs": [
    {
     "name": "stdout",
     "output_type": "stream",
     "text": [
      "thirty days of coding\n"
     ]
    }
   ],
   "source": [
    "print(x.replace('python','coding'))"
   ]
  },
  {
   "cell_type": "markdown",
   "id": "51d30d41-b142-4934-95c4-656f2a1859c1",
   "metadata": {},
   "source": [
    "# split()"
   ]
  },
  {
   "cell_type": "code",
   "execution_count": 183,
   "id": "c108e4bd-4c5a-4b55-b012-a231d18c7dbc",
   "metadata": {},
   "outputs": [],
   "source": [
    "x = 'thirty days of python'"
   ]
  },
  {
   "cell_type": "code",
   "execution_count": 184,
   "id": "a481ba02-39a9-40bd-86fb-9aa13eb45c4e",
   "metadata": {},
   "outputs": [
    {
     "name": "stdout",
     "output_type": "stream",
     "text": [
      "['thirty', 'days', 'of', 'python']\n"
     ]
    }
   ],
   "source": [
    "print(x.split())"
   ]
  },
  {
   "cell_type": "markdown",
   "id": "2fc76d26-3ada-4c50-9bb8-862a423d932e",
   "metadata": {},
   "source": [
    "# swapcase()"
   ]
  },
  {
   "cell_type": "code",
   "execution_count": 185,
   "id": "cb3bc5fb-77e0-4ac4-88ed-ff8fa6d7b7ac",
   "metadata": {},
   "outputs": [
    {
     "data": {
      "text/plain": [
       "'thirty days of python'"
      ]
     },
     "execution_count": 185,
     "metadata": {},
     "output_type": "execute_result"
    }
   ],
   "source": [
    "x"
   ]
  },
  {
   "cell_type": "code",
   "execution_count": 186,
   "id": "54071efe-15f9-429d-867d-795b315dcac0",
   "metadata": {},
   "outputs": [
    {
     "name": "stdout",
     "output_type": "stream",
     "text": [
      "THIRTY DAYS OF PYTHON\n"
     ]
    }
   ],
   "source": [
    "x =print(x.swapcase())\n",
    "x"
   ]
  },
  {
   "cell_type": "markdown",
   "id": "60370fa8-f6a8-4aba-984a-5d6db636fc22",
   "metadata": {},
   "source": [
    "# startswith()"
   ]
  },
  {
   "cell_type": "code",
   "execution_count": 189,
   "id": "ba3859ce-93ce-4ede-bc49-79f219c8b4d2",
   "metadata": {},
   "outputs": [],
   "source": [
    "x = 'thirty days of python'"
   ]
  },
  {
   "cell_type": "code",
   "execution_count": 190,
   "id": "c8fa2a26-8c40-4a30-baba-a3930b6aa470",
   "metadata": {},
   "outputs": [
    {
     "name": "stdout",
     "output_type": "stream",
     "text": [
      "True\n"
     ]
    }
   ],
   "source": [
    "print(x.startswith('thirty'))"
   ]
  },
  {
   "cell_type": "code",
   "execution_count": null,
   "id": "4050877e-0ec9-41c6-8248-7cb6819da64f",
   "metadata": {},
   "outputs": [],
   "source": []
  }
 ],
 "metadata": {
  "kernelspec": {
   "display_name": "Python 3 (ipykernel)",
   "language": "python",
   "name": "python3"
  },
  "language_info": {
   "codemirror_mode": {
    "name": "ipython",
    "version": 3
   },
   "file_extension": ".py",
   "mimetype": "text/x-python",
   "name": "python",
   "nbconvert_exporter": "python",
   "pygments_lexer": "ipython3",
   "version": "3.11.7"
  }
 },
 "nbformat": 4,
 "nbformat_minor": 5
}
